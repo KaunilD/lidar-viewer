{
 "cells": [
  {
   "cell_type": "code",
   "execution_count": 1,
   "metadata": {},
   "outputs": [],
   "source": [
    "import csv\n",
    "import numpy as np\n",
    "import pandas as pd\n",
    "import matplotlib.pyplot as plt\n",
    "from mpl_toolkits.mplot3d import Axes3D\n",
    "import json\n",
    "import glob"
   ]
  },
  {
   "cell_type": "code",
   "execution_count": 9,
   "metadata": {},
   "outputs": [
    {
     "name": "stdout",
     "output_type": "stream",
     "text": [
      "(74811, 3)\n",
      "-0.965364623921999 0.3500387094113343\n",
      "-0.8895053497918863 0.8721121502081136\n",
      "-0.03224765440078442 0.04852317893254893\n",
      "(74872, 3)\n",
      "-0.966511664911627 0.34820166842170636\n",
      "-0.9130511136322178 0.8683638863677824\n",
      "-0.05770911468315568 0.0476308853168442\n",
      "(74762, 3)\n",
      "-0.9670105134487451 0.3828503198845883\n",
      "-0.8925795910980012 0.8464420755686655\n",
      "-0.0417318175087837 0.04716068249121634\n",
      "(75107, 3)\n",
      "-0.9647242613867915 0.46080490527987517\n",
      "-0.905686837347122 0.8434023293195446\n",
      "-0.3456667457096108 0.04594825429038901\n",
      "(75285, 3)\n",
      "-0.9646429624128988 0.4073253709204345\n",
      "-0.9097811769910397 0.8951704896756273\n",
      "-0.06649020858877684 0.048273958077889936\n"
     ]
    }
   ],
   "source": [
    "data_csvs = glob.glob('../Code/MATLAB/*.csv')\n",
    "global_prep_data = []\n",
    "for i in range(5):\n",
    "    prep_data = {\"frames\":[]}\n",
    "    scan_data = []\n",
    "\n",
    "    \n",
    "    csv_fn = data_csvs[i]\n",
    "\n",
    "    df = pd.read_csv(csv_fn)\n",
    "    scan_data.append([])\n",
    "    columns = df.columns.values\n",
    "    for column in columns:\n",
    "        if column.split(\" \")[0] in [\"XYZ\", \"Unnamed:\"]:\n",
    "            scan_data[-1].append(\n",
    "                [df[column][0], df[column][1], df[column][2]]\n",
    "            )\n",
    "    scan_data[-1] = np.asarray(scan_data[-1][:-5])\n",
    "    print(scan_data[-1].shape)\n",
    "\n",
    "\n",
    "    scan_data[-1][:, 0] = 2.0*(scan_data[-1][:, 0] - (-120))/(240) - 1\n",
    "    scan_data[-1][:, 1] = 2.0*(scan_data[-1][:, 1] - (-120))/(240) - 1\n",
    "    scan_data[-1][:, 2] = 2.0*(scan_data[-1][:, 2] - (-120))/(240) - 1\n",
    "\n",
    "    scan_data[-1][:, 0]-=np.mean(scan_data[-1][:, 0])\n",
    "    scan_data[-1][:, 1]-=np.mean(scan_data[-1][:, 1])\n",
    "    scan_data[-1][:, 2]-=np.mean(scan_data[-1][:, 2])\n",
    "\n",
    "\n",
    "    print(scan_data[-1][:, 0].min(), scan_data[-1][:, 0].max())\n",
    "    print(scan_data[-1][:, 1].min(), scan_data[-1][:, 1].max())\n",
    "    print(scan_data[-1][:, 2].min(), scan_data[-1][:, 2].max())\n",
    "\n",
    "    data = {}\n",
    "    data[\"frame\"] = {}\n",
    "    data[\"frame\"][\"points\"] = []\n",
    "    data[\"frame\"][\"idx\"] = idx\n",
    "\n",
    "    for point in scan_data[-1]:\n",
    "        data[\"frame\"][\"points\"].append({\n",
    "            \"x\": point[0],\n",
    "            \"y\": point[1],\n",
    "            \"z\": point[2],\n",
    "\n",
    "        })\n",
    "    prep_data[\"frames\"].append(data)\n",
    "    global_prep_data.append(prep_data)"
   ]
  },
  {
   "cell_type": "code",
   "execution_count": 10,
   "metadata": {},
   "outputs": [],
   "source": [
    "for i in range(5):\n",
    "    with open('scans_{}.json'.format(i), 'w') as fp:\n",
    "        json.dump(global_prep_data[i], fp)"
   ]
  },
  {
   "cell_type": "code",
   "execution_count": 17,
   "metadata": {},
   "outputs": [
    {
     "data": {
      "text/plain": [
       "74811"
      ]
     },
     "execution_count": 17,
     "metadata": {},
     "output_type": "execute_result"
    }
   ],
   "source": [
    "len(prep_data[\"frames\"][0][\"frame\"][\"points\"])"
   ]
  },
  {
   "cell_type": "code",
   "execution_count": null,
   "metadata": {},
   "outputs": [],
   "source": []
  }
 ],
 "metadata": {
  "kernelspec": {
   "display_name": "Python (pytorch)",
   "language": "python",
   "name": "pytorch"
  },
  "language_info": {
   "codemirror_mode": {
    "name": "ipython",
    "version": 3
   },
   "file_extension": ".py",
   "mimetype": "text/x-python",
   "name": "python",
   "nbconvert_exporter": "python",
   "pygments_lexer": "ipython3",
   "version": "3.5.6"
  }
 },
 "nbformat": 4,
 "nbformat_minor": 2
}
