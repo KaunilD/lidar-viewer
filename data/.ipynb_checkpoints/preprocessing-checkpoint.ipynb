{
 "cells": [
  {
   "cell_type": "code",
   "execution_count": 1,
   "metadata": {},
   "outputs": [],
   "source": [
    "import csv\n",
    "import numpy as np\n",
    "import pandas as pd\n",
    "import matplotlib.pyplot as plt\n",
    "from mpl_toolkits.mplot3d import Axes3D\n",
    "import json\n",
    "import glob\n"
   ]
  },
  {
   "cell_type": "code",
   "execution_count": 24,
   "metadata": {},
   "outputs": [
    {
     "name": "stdout",
     "output_type": "stream",
     "text": [
      "(74811, 3)\n",
      "-0.9578791666666666 0.35752416666666664\n",
      "-0.8754966666666667 0.8861208333333332\n",
      "-0.04501083333333333 0.035760000000000014\n"
     ]
    }
   ],
   "source": [
    "data_csvs = glob.glob('./Scan*.csv')\n",
    "scan_data = []\n",
    "    \n",
    "prep_data = {\"frames\":[]}\n",
    "for idx, csv_fn in enumerate(data_csvs[:1]):\n",
    "    \n",
    "    df = pd.read_csv(csv_fn)\n",
    "    scan_data.append([])\n",
    "    columns = df.columns.values\n",
    "    for column in columns:\n",
    "        if column.split(\" \")[0] in [\"XYZ\", \"Unnamed:\"]:\n",
    "            scan_data[-1].append(\n",
    "                [df[column][0], df[column][1], df[column][2]]\n",
    "            )\n",
    "    scan_data[-1] = np.asarray(scan_data[-1][:-5])\n",
    "    print(scan_data[-1].shape)\n",
    "    \n",
    "    \n",
    "    scan_data[-1][:, 0] = 2.0*(scan_data[-1][:, 0] - (-120))/(240) - 1\n",
    "    scan_data[-1][:, 1] = 2.0*(scan_data[-1][:, 1] - (-120))/(240) - 1\n",
    "    scan_data[-1][:, 2] = 2.0*(scan_data[-1][:, 2] - (-120))/(240) - 1\n",
    "    \n",
    "    scan_data[-1][:, 0]-=np.mean(scan_data[-1][:, 0])\n",
    "    scan_data[-1][:, 1]-=np.mean(scan_data[-1][:, 1])\n",
    "    scan_data[-1][:, 2]-=np.mean(scan_data[-1][:, 2])\n",
    "    \n",
    "    print(scan_data[-1][:, 0].min(), scan_data[-1][:, 0].max())\n",
    "    print(scan_data[-1][:, 1].min(), scan_data[-1][:, 1].max())\n",
    "    print(scan_data[-1][:, 2].min(), scan_data[-1][:, 2].max())\n",
    "    \n",
    "    data = {}\n",
    "    data[\"frame\"] = {}\n",
    "    data[\"frame\"][\"points\"] = []\n",
    "    data[\"frame\"][\"idx\"] = idx\n",
    "\n",
    "    for point in scan_data[-1]:\n",
    "        data[\"frame\"][\"points\"].append({\n",
    "            \"x\": point[0],\n",
    "            \"y\": point[1],\n",
    "            \"z\": point[2],\n",
    "\n",
    "        })\n",
    "    prep_data[\"frames\"].append(data)\n",
    "    "
   ]
  },
  {
   "cell_type": "code",
   "execution_count": 25,
   "metadata": {},
   "outputs": [],
   "source": [
    "with open('scans.json', 'w') as fp:\n",
    "    json.dump(prep_data, fp)"
   ]
  },
  {
   "cell_type": "code",
   "execution_count": 17,
   "metadata": {},
   "outputs": [
    {
     "data": {
      "text/plain": [
       "74811"
      ]
     },
     "execution_count": 17,
     "metadata": {},
     "output_type": "execute_result"
    }
   ],
   "source": [
    "len(prep_data[\"frames\"][0][\"frame\"][\"points\"])"
   ]
  },
  {
   "cell_type": "code",
   "execution_count": null,
   "metadata": {},
   "outputs": [],
   "source": []
  }
 ],
 "metadata": {
  "kernelspec": {
   "display_name": "Python (pytorch)",
   "language": "python",
   "name": "pytorch"
  },
  "language_info": {
   "codemirror_mode": {
    "name": "ipython",
    "version": 3
   },
   "file_extension": ".py",
   "mimetype": "text/x-python",
   "name": "python",
   "nbconvert_exporter": "python",
   "pygments_lexer": "ipython3",
   "version": "3.5.6"
  }
 },
 "nbformat": 4,
 "nbformat_minor": 2
}
